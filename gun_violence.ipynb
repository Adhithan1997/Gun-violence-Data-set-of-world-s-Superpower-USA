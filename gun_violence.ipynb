{
 "cells": [
  {
   "cell_type": "code",
   "execution_count": 1,
   "metadata": {},
   "outputs": [],
   "source": [
    "import pandas as pd\n",
    "import plotly.express as px\n",
    "import matplotlib.pyplot as plt\n",
    "import seaborn as sns"
   ]
  },
  {
   "cell_type": "code",
   "execution_count": 2,
   "metadata": {},
   "outputs": [],
   "source": [
    "# Load the dataset\n",
    "gun_df = pd.read_csv('gun-violence-data_01-2013_03-2018.csv')"
   ]
  },
  {
   "cell_type": "code",
   "execution_count": null,
   "metadata": {},
   "outputs": [],
   "source": [
    "gun_df.head(2)"
   ]
  },
  {
   "cell_type": "code",
   "execution_count": null,
   "metadata": {},
   "outputs": [],
   "source": [
    "gun_df.shape"
   ]
  },
  {
   "cell_type": "code",
   "execution_count": null,
   "metadata": {},
   "outputs": [],
   "source": [
    "gun_df.isnull().sum()"
   ]
  },
  {
   "cell_type": "code",
   "execution_count": 6,
   "metadata": {},
   "outputs": [],
   "source": [
    "# Drop unwanted columns\n",
    "gun_df = gun_df.drop(columns=[\n",
    "    'gun_stolen', 'gun_type', 'location_description', 'n_guns_involved', \n",
    "    'participant_name', 'participant_relationship', 'notes', 'sources'\n",
    "])"
   ]
  },
  {
   "cell_type": "code",
   "execution_count": 7,
   "metadata": {},
   "outputs": [],
   "source": [
    "# Fill missing values in useful columns\n",
    "gun_df['congressional_district'] = gun_df['congressional_district'].fillna(gun_df['congressional_district'].mode()[0])\n",
    "gun_df['participant_age'] = gun_df['participant_age'].fillna(gun_df['participant_age'].mode()[0])\n",
    "gun_df['participant_age_group'] = gun_df['participant_age_group'].fillna(gun_df['participant_age_group'].mode()[0])\n",
    "gun_df['participant_gender'] = gun_df['participant_gender'].fillna(gun_df['participant_gender'].mode()[0])\n",
    "gun_df['participant_status'] = gun_df['participant_status'].fillna(gun_df['participant_status'].mode()[0])\n",
    "gun_df['participant_type'] = gun_df['participant_type'].fillna(gun_df['participant_type'].mode()[0])\n",
    "gun_df['state_house_district'] = gun_df['state_house_district'].fillna(gun_df['state_house_district'].mode()[0])\n",
    "gun_df['state_senate_district'] = gun_df['state_senate_district'].fillna(gun_df['state_senate_district'].mode()[0])"
   ]
  },
  {
   "cell_type": "code",
   "execution_count": 8,
   "metadata": {},
   "outputs": [],
   "source": [
    "# Convert data types\n",
    "gun_df['date'] = pd.to_datetime(gun_df['date'])\n",
    "gun_df['congressional_district'] = gun_df['congressional_district'].astype(int)\n",
    "gun_df['state_house_district'] = gun_df['state_house_district'].astype(int)\n",
    "gun_df['state_senate_district'] = gun_df['state_senate_district'].astype(int)"
   ]
  },
  {
   "cell_type": "code",
   "execution_count": null,
   "metadata": {},
   "outputs": [],
   "source": [
    "gun_df.describe()"
   ]
  },
  {
   "cell_type": "code",
   "execution_count": null,
   "metadata": {},
   "outputs": [],
   "source": [
    "# Distribution of incidents over the years\n",
    "gun_df['year'] = gun_df['date'].dt.year\n",
    "incident_count_per_year = gun_df['year'].value_counts().sort_index()\n",
    "\n",
    "print(incident_count_per_year)"
   ]
  },
  {
   "cell_type": "code",
   "execution_count": null,
   "metadata": {},
   "outputs": [],
   "source": [
    "# Incidents per year (Bar plot with hover data using Plotly)\n",
    "fig = px.bar(\n",
    "    x=incident_count_per_year.index,\n",
    "    y=incident_count_per_year.values,\n",
    "    labels={'x': 'Year', 'y': 'Number of Incidents'},\n",
    "    title='Number of Gun Violence Incidents per Year'\n",
    ")\n",
    "fig.update_traces(hovertemplate='Year: %{x}<br>Number of Incidents: %{y}')\n",
    "fig.show()"
   ]
  },
  {
   "cell_type": "code",
   "execution_count": null,
   "metadata": {},
   "outputs": [],
   "source": [
    "# Create 'year_month' column\n",
    "gun_df['year_month'] = gun_df['date'].dt.to_period('M')\n",
    "\n",
    "# Group by 'year_month' to count incidents\n",
    "incident_count_per_month = gun_df.groupby('year_month').size().reset_index(name='incident_count')\n",
    "\n",
    "# Convert 'year_month' to string for Plotly compatibility (if needed)\n",
    "incident_count_per_month['year_month'] = incident_count_per_month['year_month'].astype(str)\n",
    "\n",
    "# Create a line plot with Plotly\n",
    "fig = px.line(incident_count_per_month, x='year_month', y='incident_count',\n",
    "              title='Gun Violence Incidents Over Time',\n",
    "              labels={'year_month': 'Year-Month', 'incident_count': 'Number of Incidents'},\n",
    "              hover_data={'year_month': True, 'incident_count': True})\n",
    "fig.update_xaxes(tickangle=45)\n",
    "fig.show()"
   ]
  },
  {
   "cell_type": "code",
   "execution_count": null,
   "metadata": {},
   "outputs": [],
   "source": [
    "# Top 10 states with the highest number of incidents\n",
    "top_states = gun_df['state'].value_counts().head(10)\n",
    "print(top_states)"
   ]
  },
  {
   "cell_type": "code",
   "execution_count": null,
   "metadata": {},
   "outputs": [],
   "source": [
    "# Top 10 states with the highest number of incidents\n",
    "plt.figure(figsize=(10, 6))\n",
    "sns.barplot(x=top_states.values, y=top_states.index)\n",
    "plt.title('Top 10 States with the Highest Number of Gun Violence Incidents')\n",
    "plt.xlabel('Number of Incidents')\n",
    "plt.ylabel('State')\n",
    "plt.show()"
   ]
  },
  {
   "cell_type": "code",
   "execution_count": null,
   "metadata": {},
   "outputs": [],
   "source": [
    "\n",
    "# Calculate total incidents, killed, and injured per state\n",
    "state_summary = gun_df.groupby('state').agg({'incident_id': 'count', 'n_killed': 'sum', 'n_injured': 'sum'}).reset_index()\n",
    "state_summary = state_summary.sort_values(by='incident_id', ascending=False).head(10)  # Top 10 states by incident count\n",
    "\n",
    "# Melt the data to create a stacked bar plot\n",
    "state_summary_melted = state_summary.melt(id_vars='state', var_name='severity', value_name='count')\n",
    "\n",
    "# Create a stacked bar plot with Seaborn\n",
    "plt.figure(figsize=(12, 8))\n",
    "sns.barplot(x='count', y='state', hue='severity', data=state_summary_melted,\n",
    "            palette={'incident_id': 'b', 'n_killed': 'r', 'n_injured': 'g'},\n",
    "            edgecolor='black')\n",
    "\n",
    "# Customize plot\n",
    "plt.title('Gun Violence Incidents by State and Severity')\n",
    "plt.xlabel('Number of Incidents')\n",
    "plt.ylabel('State')\n",
    "plt.legend(title='Severity', loc='upper right')\n",
    "plt.grid(True)\n",
    "plt.tight_layout()\n",
    "plt.show()"
   ]
  },
  {
   "cell_type": "code",
   "execution_count": null,
   "metadata": {},
   "outputs": [],
   "source": [
    "\n",
    "# Filter out incidents with missing latitude or longitude\n",
    "filtered_gun_df = gun_df.dropna(subset=['latitude', 'longitude'])\n",
    "\n",
    "# Create a scatter plot map using Plotly\n",
    "fig = px.scatter_mapbox(filtered_gun_df, lat='latitude', lon='longitude', \n",
    "                        hover_name='state', hover_data=['n_killed', 'n_injured'],\n",
    "                        color_discrete_sequence=['blue'], zoom=3)\n",
    "\n",
    "# Customize the map layout\n",
    "fig.update_layout(mapbox_style='open-street-map')\n",
    "fig.update_layout(title='Geographical Distribution of Gun Violence Incidents in the US')\n",
    "fig.update_layout(margin=dict(l=0, r=0, t=50, b=0))\n",
    "fig.show()"
   ]
  },
  {
   "cell_type": "markdown",
   "metadata": {},
   "source": [
    "### Machine learning model to predict"
   ]
  },
  {
   "cell_type": "code",
   "execution_count": 17,
   "metadata": {},
   "outputs": [],
   "source": [
    "from sklearn.preprocessing import LabelEncoder\n",
    "from sklearn.ensemble import RandomForestRegressor\n",
    "from sklearn.metrics import mean_squared_error, r2_score\n",
    "from sklearn.model_selection import train_test_split\n",
    "from sklearn.linear_model import LinearRegression\n",
    "from sklearn.tree import DecisionTreeRegressor"
   ]
  },
  {
   "cell_type": "code",
   "execution_count": null,
   "metadata": {},
   "outputs": [],
   "source": [
    "# RandomForest Regressor\n",
    "\n",
    "# Select features and target\n",
    "features = ['state', 'n_injured', 'incident_characteristics']\n",
    "target = 'n_killed'\n",
    "\n",
    "# Create feature matrix X and target vector y\n",
    "X = gun_df[features].copy()\n",
    "y = gun_df[target]\n",
    "\n",
    "# Encode categorical features\n",
    "label_encoders = {}\n",
    "for column in ['state', 'incident_characteristics']:\n",
    "    le = LabelEncoder()\n",
    "    X[column] = le.fit_transform(X[column])\n",
    "    label_encoders[column] = le\n",
    "\n",
    "# Split data into training and testing sets\n",
    "X_train, X_test, y_train, y_test = train_test_split(X, y, test_size=0.2, random_state=42)\n",
    "\n",
    "# Initialize and train the model\n",
    "model = RandomForestRegressor(random_state=42)\n",
    "model.fit(X_train, y_train)\n",
    "\n",
    "# Predictions on test set\n",
    "y_pred = model.predict(X_test)\n",
    "\n",
    "# Evaluation metrics\n",
    "mse = mean_squared_error(y_test, y_pred)\n",
    "r2 = r2_score(y_test, y_pred)\n",
    "\n",
    "print(f'Mean Squared Error: {mse}')\n",
    "print(f'R-squared: {r2}')"
   ]
  },
  {
   "cell_type": "code",
   "execution_count": null,
   "metadata": {},
   "outputs": [],
   "source": [
    "# linear Regressor\n",
    "\n",
    "# Select features and target\n",
    "features = ['state', 'n_injured', 'incident_characteristics']\n",
    "target = 'n_killed'\n",
    "\n",
    "# Create feature matrix X and target vector y\n",
    "X = gun_df[features].copy()\n",
    "y = gun_df[target]\n",
    "\n",
    "# Encode categorical features\n",
    "label_encoders = {}\n",
    "for column in ['state', 'incident_characteristics']:\n",
    "    le = LabelEncoder()\n",
    "    X[column] = le.fit_transform(X[column])\n",
    "    label_encoders[column] = le\n",
    "\n",
    "# Split data into training and testing sets\n",
    "X_train, X_test, y_train, y_test = train_test_split(X, y, test_size=0.2, random_state=42)\n",
    "\n",
    "# Initialize and train the Linear Regression model\n",
    "linear_model = LinearRegression()\n",
    "linear_model.fit(X_train, y_train)\n",
    "\n",
    "# Predictions on test set\n",
    "y_pred_linear = linear_model.predict(X_test)\n",
    "\n",
    "# Evaluation metrics\n",
    "mse_linear = mean_squared_error(y_test, y_pred_linear)\n",
    "r2_linear = r2_score(y_test, y_pred_linear)\n",
    "\n",
    "print('Linear Regression Results:')\n",
    "print(f'Mean Squared Error: {mse_linear}')\n",
    "print(f'R-squared: {r2_linear}')"
   ]
  },
  {
   "cell_type": "code",
   "execution_count": null,
   "metadata": {},
   "outputs": [],
   "source": [
    "#Decision Tree Regressor\n",
    "\n",
    "# Initialize and train the Decision Tree Regressor\n",
    "tree_model = DecisionTreeRegressor(random_state=42)\n",
    "tree_model.fit(X_train, y_train)\n",
    "\n",
    "# Predictions on test set\n",
    "y_pred_tree = tree_model.predict(X_test)\n",
    "\n",
    "# Evaluation metrics\n",
    "mse_tree = mean_squared_error(y_test, y_pred_tree)\n",
    "r2_tree = r2_score(y_test, y_pred_tree)\n",
    "\n",
    "print('Decision Tree Regression Results:')\n",
    "print(f'Mean Squared Error: {mse_tree}')\n",
    "print(f'R-squared: {r2_tree}')"
   ]
  },
  {
   "cell_type": "code",
   "execution_count": null,
   "metadata": {},
   "outputs": [],
   "source": []
  }
 ],
 "metadata": {
  "kernelspec": {
   "display_name": "Python 3",
   "language": "python",
   "name": "python3"
  },
  "language_info": {
   "codemirror_mode": {
    "name": "ipython",
    "version": 3
   },
   "file_extension": ".py",
   "mimetype": "text/x-python",
   "name": "python",
   "nbconvert_exporter": "python",
   "pygments_lexer": "ipython3",
   "version": "3.12.3"
  }
 },
 "nbformat": 4,
 "nbformat_minor": 2
}
